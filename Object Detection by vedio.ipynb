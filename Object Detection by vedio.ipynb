{
 "cells": [
  {
   "cell_type": "code",
   "execution_count": 1,
   "id": "32683daa",
   "metadata": {},
   "outputs": [],
   "source": [
    "import numpy as np\n",
    "import cv2"
   ]
  },
  {
   "cell_type": "code",
   "execution_count": 2,
   "id": "97c5043f",
   "metadata": {},
   "outputs": [],
   "source": [
    "\n",
    "configPath = \"yolov3.cfg\"\n",
    "weightsPath = \"yolov3 (1).weights\"\n",
    "net = cv2.dnn.readNetFromDarknet(configPath, weightsPath)\n"
   ]
  },
  {
   "cell_type": "code",
   "execution_count": 3,
   "id": "bf18b487",
   "metadata": {},
   "outputs": [],
   "source": [
    "\n",
    "output_layer_indices = net.getUnconnectedOutLayers()\n",
    "layer_names = net.getLayerNames()\n",
    "output_layer_names = [layer_names[i - 1] for i in output_layer_indices]\n"
   ]
  },
  {
   "cell_type": "code",
   "execution_count": 4,
   "id": "d4587401",
   "metadata": {},
   "outputs": [],
   "source": [
    "\n",
    "video_path = \"People Walking Free Stock Footage, Royalty-Free No Copyright Content.mp4\"\n",
    "cap = cv2.VideoCapture(video_path)\n"
   ]
  },
  {
   "cell_type": "code",
   "execution_count": 5,
   "id": "49ec5436",
   "metadata": {},
   "outputs": [],
   "source": [
    "\n",
    "labelsPath = 'coco.names'\n",
    "LABELS = open(labelsPath).read().strip().split(\"\\n\")\n",
    "COLORS = np.random.randint(0, 255, size=(len(LABELS), 3), dtype=\"uint8\")\n"
   ]
  },
  {
   "cell_type": "code",
   "execution_count": 6,
   "id": "3b5b944c",
   "metadata": {},
   "outputs": [],
   "source": [
    "\n",
    "args = {\n",
    "    \"confidence\": 0.5,  \n",
    "    \"threshold\": 0.3  \n",
    "}\n",
    "\n",
    "frame_skip_factor = 1  \n",
    "\n",
    "frame_count = 2 "
   ]
  },
  {
   "cell_type": "code",
   "execution_count": 7,
   "id": "46dd2ce6",
   "metadata": {},
   "outputs": [],
   "source": [
    "\n",
    "ret, frame = cap.read()\n",
    "if not ret:\n",
    "    raise ValueError(\"Failed to read video frame\")\n",
    "(H, W) = frame.shape[:2]\n",
    "\n",
    "\n",
    "fourcc = cv2.VideoWriter_fourcc(*'mp4v') \n",
    "out = cv2.VideoWriter('output.mp4', fourcc, 30, (W, H))  \n"
   ]
  },
  {
   "cell_type": "code",
   "execution_count": 8,
   "id": "6b1ac5e9",
   "metadata": {},
   "outputs": [],
   "source": [
    "\n",
    "while True:\n",
    "    \n",
    "    ret, frame = cap.read()\n",
    "    if not ret:\n",
    "        break\n",
    "\n",
    "    frame_count += 1\n",
    "    if frame_count % frame_skip_factor != 0:\n",
    "        continue  \n",
    "\n",
    "    \n",
    "    set1 = cv2.dnn.blobFromImage(frame, 1 / 255.0, (416, 416),\n",
    "                                  swapRB=True, crop=False)\n",
    "\n",
    "    \n",
    "    net.setInput(set1)\n",
    "\n",
    "   \n",
    "    layerOutputs = net.forward(output_layer_names)\n",
    "\n",
    "    \n",
    "    boxes = []\n",
    "    confidences = []\n",
    "    classIDs = []\n",
    "    for output in layerOutputs:\n",
    "        for detection in output:\n",
    "            scores = detection[5:]\n",
    "            classID = np.argmax(scores)\n",
    "            confidence = scores[classID]\n",
    "\n",
    "            if confidence > args[\"confidence\"]:\n",
    "                box = detection[0:4] * np.array([W, H, W, H])\n",
    "                (centerX, centerY, width, height) = box.astype(\"int\")\n",
    "                x = int(centerX - (width / 2))\n",
    "                y = int(centerY - (height / 2))\n",
    "\n",
    "                boxes.append([x, y, int(width), int(height)])\n",
    "                confidences.append(float(confidence))\n",
    "                classIDs.append(classID)\n",
    "\n",
    "   \n",
    "    idxs = cv2.dnn.NMSBoxes(boxes, confidences, args[\"confidence\"], args[\"threshold\"])\n",
    "\n",
    "    \n",
    "    if len(idxs) > 0:\n",
    "        for i in idxs.flatten():\n",
    "            (x, y) = (boxes[i][0], boxes[i][1])\n",
    "            (w, h) = (boxes[i][2], boxes[i][3])\n",
    "\n",
    "            color = [int(c) for c in COLORS[classIDs[i]]]\n",
    "            cv2.rectangle(frame, (x, y), (x + w, y + h), color, 2)\n",
    "            text = \"{}: {:.4f}\".format(LABELS[classIDs[i]], confidences[i])\n",
    "            cv2.putText(frame, text, (x, y - 5), cv2.FONT_HERSHEY_SIMPLEX,\n",
    "                        0.5, color, 2)\n",
    "\n",
    "    \n",
    "    out.write(frame)\n",
    "\n",
    "    \n",
    "    cv2.imshow(\"Video\", frame)\n",
    "    if cv2.waitKey(2) & 0xFF == ord('x'):\n",
    "        break"
   ]
  },
  {
   "cell_type": "code",
   "execution_count": 9,
   "id": "f4375b4c",
   "metadata": {},
   "outputs": [],
   "source": [
    "cap.release()\n",
    "out.release()\n",
    "cv2.destroyAllWindows()"
   ]
  },
  {
   "cell_type": "code",
   "execution_count": null,
   "id": "5ccfee2c",
   "metadata": {},
   "outputs": [],
   "source": []
  }
 ],
 "metadata": {
  "kernelspec": {
   "display_name": "Python 3 (ipykernel)",
   "language": "python",
   "name": "python3"
  },
  "language_info": {
   "codemirror_mode": {
    "name": "ipython",
    "version": 3
   },
   "file_extension": ".py",
   "mimetype": "text/x-python",
   "name": "python",
   "nbconvert_exporter": "python",
   "pygments_lexer": "ipython3",
   "version": "3.11.5"
  }
 },
 "nbformat": 4,
 "nbformat_minor": 5
}
